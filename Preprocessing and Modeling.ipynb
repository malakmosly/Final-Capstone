{
 "cells": [
  {
   "cell_type": "code",
   "execution_count": 1,
   "id": "9d23f6f4",
   "metadata": {},
   "outputs": [],
   "source": [
    "import pandas as pd\n",
    "import numpy as np\n",
    "import matplotlib.pyplot as  plt\n",
    "\n",
    "from sklearn.feature_extraction.text import CountVectorizer\n",
    "from sklearn import preprocessing, model_selection"
   ]
  },
  {
   "cell_type": "code",
   "execution_count": 2,
   "id": "97cdc2d2",
   "metadata": {},
   "outputs": [],
   "source": [
    "df = pd.read_csv(\"Training Data.csv\")"
   ]
  },
  {
   "cell_type": "code",
   "execution_count": 3,
   "id": "307b94c8",
   "metadata": {},
   "outputs": [
    {
     "data": {
      "text/plain": [
       "Unnamed: 0     0\n",
       "id             0\n",
       "keyword       61\n",
       "text           1\n",
       "target         0\n",
       "dtype: int64"
      ]
     },
     "execution_count": 3,
     "metadata": {},
     "output_type": "execute_result"
    }
   ],
   "source": [
    "df.isnull().sum()"
   ]
  },
  {
   "cell_type": "code",
   "execution_count": 4,
   "id": "2fde6c00",
   "metadata": {},
   "outputs": [],
   "source": [
    "df.dropna(inplace=True)"
   ]
  },
  {
   "cell_type": "code",
   "execution_count": 5,
   "id": "2b506826",
   "metadata": {},
   "outputs": [
    {
     "data": {
      "text/html": [
       "<div>\n",
       "<style scoped>\n",
       "    .dataframe tbody tr th:only-of-type {\n",
       "        vertical-align: middle;\n",
       "    }\n",
       "\n",
       "    .dataframe tbody tr th {\n",
       "        vertical-align: top;\n",
       "    }\n",
       "\n",
       "    .dataframe thead th {\n",
       "        text-align: right;\n",
       "    }\n",
       "</style>\n",
       "<table border=\"1\" class=\"dataframe\">\n",
       "  <thead>\n",
       "    <tr style=\"text-align: right;\">\n",
       "      <th></th>\n",
       "      <th>Unnamed: 0</th>\n",
       "      <th>id</th>\n",
       "      <th>keyword</th>\n",
       "      <th>text</th>\n",
       "      <th>target</th>\n",
       "    </tr>\n",
       "  </thead>\n",
       "  <tbody>\n",
       "    <tr>\n",
       "      <th>31</th>\n",
       "      <td>31</td>\n",
       "      <td>48</td>\n",
       "      <td>ablaze</td>\n",
       "      <td>bbcmtd wholesale markets ablaze</td>\n",
       "      <td>1</td>\n",
       "    </tr>\n",
       "    <tr>\n",
       "      <th>32</th>\n",
       "      <td>32</td>\n",
       "      <td>49</td>\n",
       "      <td>ablaze</td>\n",
       "      <td>we always try to bring the heavy metal rt</td>\n",
       "      <td>0</td>\n",
       "    </tr>\n",
       "    <tr>\n",
       "      <th>33</th>\n",
       "      <td>33</td>\n",
       "      <td>50</td>\n",
       "      <td>ablaze</td>\n",
       "      <td>africanbaze breaking newsnigeria flag set abla...</td>\n",
       "      <td>1</td>\n",
       "    </tr>\n",
       "    <tr>\n",
       "      <th>34</th>\n",
       "      <td>34</td>\n",
       "      <td>52</td>\n",
       "      <td>ablaze</td>\n",
       "      <td>crying out for more set me ablaze</td>\n",
       "      <td>0</td>\n",
       "    </tr>\n",
       "    <tr>\n",
       "      <th>35</th>\n",
       "      <td>35</td>\n",
       "      <td>53</td>\n",
       "      <td>ablaze</td>\n",
       "      <td>on plus side look at the sky last night it was...</td>\n",
       "      <td>0</td>\n",
       "    </tr>\n",
       "  </tbody>\n",
       "</table>\n",
       "</div>"
      ],
      "text/plain": [
       "    Unnamed: 0  id keyword                                               text  \\\n",
       "31          31  48  ablaze                   bbcmtd wholesale markets ablaze    \n",
       "32          32  49  ablaze         we always try to bring the heavy metal rt    \n",
       "33          33  50  ablaze  africanbaze breaking newsnigeria flag set abla...   \n",
       "34          34  52  ablaze                  crying out for more set me ablaze   \n",
       "35          35  53  ablaze  on plus side look at the sky last night it was...   \n",
       "\n",
       "    target  \n",
       "31       1  \n",
       "32       0  \n",
       "33       1  \n",
       "34       0  \n",
       "35       0  "
      ]
     },
     "execution_count": 5,
     "metadata": {},
     "output_type": "execute_result"
    }
   ],
   "source": [
    "df.head()"
   ]
  },
  {
   "cell_type": "code",
   "execution_count": 6,
   "id": "258e84d2",
   "metadata": {},
   "outputs": [],
   "source": [
    "vectorizer = CountVectorizer(stop_words='english')\n",
    "X = vectorizer.fit_transform(df['text'])"
   ]
  },
  {
   "cell_type": "code",
   "execution_count": 7,
   "id": "03521c82",
   "metadata": {},
   "outputs": [],
   "source": [
    "y = df['target']"
   ]
  },
  {
   "cell_type": "code",
   "execution_count": 8,
   "id": "1ab62ca3",
   "metadata": {},
   "outputs": [
    {
     "data": {
      "text/plain": [
       "0    0.572375\n",
       "1    0.427625\n",
       "Name: target, dtype: float64"
      ]
     },
     "execution_count": 8,
     "metadata": {},
     "output_type": "execute_result"
    }
   ],
   "source": [
    "df['target'].value_counts(normalize=True)"
   ]
  },
  {
   "cell_type": "code",
   "execution_count": 9,
   "id": "b72e84f7",
   "metadata": {},
   "outputs": [],
   "source": [
    "from sklearn.model_selection import train_test_split\n",
    "\n",
    "X_train, X_test, y_train, y_test = train_test_split(X, y, test_size=0.3, random_state=1234)"
   ]
  },
  {
   "cell_type": "code",
   "execution_count": 10,
   "id": "5344cc54",
   "metadata": {},
   "outputs": [
    {
     "data": {
      "text/plain": [
       "((5285, 16238), (2266, 16238))"
      ]
     },
     "execution_count": 10,
     "metadata": {},
     "output_type": "execute_result"
    }
   ],
   "source": [
    "X_train.shape, X_test.shape"
   ]
  },
  {
   "cell_type": "code",
   "execution_count": 11,
   "id": "27bab47a",
   "metadata": {},
   "outputs": [
    {
     "data": {
      "text/plain": [
       "((5285,), (2266,))"
      ]
     },
     "execution_count": 11,
     "metadata": {},
     "output_type": "execute_result"
    }
   ],
   "source": [
    "y_train.shape, y_test.shape"
   ]
  },
  {
   "cell_type": "code",
   "execution_count": 12,
   "id": "f85e664a",
   "metadata": {},
   "outputs": [
    {
     "data": {
      "text/plain": [
       "<5285x16238 sparse matrix of type '<class 'numpy.int64'>'\n",
       "\twith 42773 stored elements in Compressed Sparse Row format>"
      ]
     },
     "execution_count": 12,
     "metadata": {},
     "output_type": "execute_result"
    }
   ],
   "source": [
    "X_train"
   ]
  },
  {
   "cell_type": "code",
   "execution_count": 13,
   "id": "067baad3",
   "metadata": {},
   "outputs": [
    {
     "data": {
      "text/plain": [
       "(5285, 16238)"
      ]
     },
     "execution_count": 13,
     "metadata": {},
     "output_type": "execute_result"
    }
   ],
   "source": [
    "from sklearn.feature_extraction.text import TfidfTransformer\n",
    "tf_transformer = TfidfTransformer(use_idf=False).fit(X_train)\n",
    "X_train_tf = tf_transformer.transform(X_train)\n",
    "X_train_tf.shape"
   ]
  },
  {
   "cell_type": "code",
   "execution_count": 14,
   "id": "fddbbeaa",
   "metadata": {},
   "outputs": [
    {
     "data": {
      "text/plain": [
       "(2266, 16238)"
      ]
     },
     "execution_count": 14,
     "metadata": {},
     "output_type": "execute_result"
    }
   ],
   "source": [
    "tf_transformer = TfidfTransformer(use_idf=False).fit(X_test)\n",
    "X_test_tf = tf_transformer.transform(X_test)\n",
    "X_test_tf.shape"
   ]
  },
  {
   "cell_type": "markdown",
   "id": "3f21e7dc",
   "metadata": {},
   "source": [
    "# Naive Bayes Model"
   ]
  },
  {
   "cell_type": "code",
   "execution_count": 15,
   "id": "d02d868a",
   "metadata": {},
   "outputs": [
    {
     "data": {
      "text/plain": [
       "MultinomialNB()"
      ]
     },
     "execution_count": 15,
     "metadata": {},
     "output_type": "execute_result"
    }
   ],
   "source": [
    "from sklearn.naive_bayes import MultinomialNB\n",
    "clf = MultinomialNB()\n",
    "clf.fit(X_train, y_train)"
   ]
  },
  {
   "cell_type": "code",
   "execution_count": 16,
   "id": "a1afd984",
   "metadata": {},
   "outputs": [],
   "source": [
    "pred = clf.predict(X_test)"
   ]
  },
  {
   "cell_type": "code",
   "execution_count": 17,
   "id": "9163d705",
   "metadata": {},
   "outputs": [
    {
     "data": {
      "text/plain": [
       "0.796557811120918"
      ]
     },
     "execution_count": 17,
     "metadata": {},
     "output_type": "execute_result"
    }
   ],
   "source": [
    "np.mean(pred == y_test)"
   ]
  },
  {
   "cell_type": "markdown",
   "id": "e885752f",
   "metadata": {},
   "source": [
    "The Naive Bayes Model achieves 80.41% accuracy."
   ]
  },
  {
   "cell_type": "code",
   "execution_count": 18,
   "id": "1003879e",
   "metadata": {},
   "outputs": [
    {
     "data": {
      "text/plain": [
       "array([0.74857793, 0.73236282, 0.75398633, 0.74772727, 0.73565804])"
      ]
     },
     "execution_count": 18,
     "metadata": {},
     "output_type": "execute_result"
    }
   ],
   "source": [
    "scores = model_selection.cross_val_score(clf, X_train, y_train, cv=5, scoring=\"f1\")\n",
    "scores"
   ]
  },
  {
   "cell_type": "code",
   "execution_count": 19,
   "id": "779a7cef",
   "metadata": {},
   "outputs": [
    {
     "data": {
      "text/plain": [
       "MultinomialNB()"
      ]
     },
     "execution_count": 19,
     "metadata": {},
     "output_type": "execute_result"
    }
   ],
   "source": [
    "clf_NB_TFIDF = MultinomialNB()\n",
    "clf_NB_TFIDF.fit(X_train_tf, y_train)"
   ]
  },
  {
   "cell_type": "code",
   "execution_count": 20,
   "id": "3e36ea5d",
   "metadata": {},
   "outputs": [],
   "source": [
    "pred_tf = clf_NB_TFIDF.predict(X_test_tf)"
   ]
  },
  {
   "cell_type": "code",
   "execution_count": 21,
   "id": "d854d961",
   "metadata": {},
   "outputs": [
    {
     "data": {
      "text/plain": [
       "0.7974404236540159"
      ]
     },
     "execution_count": 21,
     "metadata": {},
     "output_type": "execute_result"
    }
   ],
   "source": [
    "np.mean(pred_tf == y_test)"
   ]
  },
  {
   "cell_type": "code",
   "execution_count": 22,
   "id": "1d1924dc",
   "metadata": {
    "scrolled": true
   },
   "outputs": [
    {
     "data": {
      "text/plain": [
       "array([0.72979798, 0.70920245, 0.7225    , 0.73218673, 0.73284314])"
      ]
     },
     "execution_count": 22,
     "metadata": {},
     "output_type": "execute_result"
    }
   ],
   "source": [
    "scores = model_selection.cross_val_score(clf_NB_TFIDF, X_train_tf, y_train, cv=5, scoring=\"f1\")\n",
    "scores"
   ]
  },
  {
   "cell_type": "code",
   "execution_count": 23,
   "id": "56b695bb",
   "metadata": {},
   "outputs": [
    {
     "name": "stdout",
     "output_type": "stream",
     "text": [
      "              precision    recall  f1-score   support\n",
      "\n",
      "           0       0.78      0.91      0.84      1302\n",
      "           1       0.84      0.65      0.73       964\n",
      "\n",
      "    accuracy                           0.80      2266\n",
      "   macro avg       0.81      0.78      0.78      2266\n",
      "weighted avg       0.80      0.80      0.79      2266\n",
      "\n"
     ]
    }
   ],
   "source": [
    "from sklearn import metrics\n",
    "from sklearn.metrics import balanced_accuracy_score, plot_confusion_matrix, confusion_matrix, ConfusionMatrixDisplay\n",
    "print(metrics.classification_report(y_test, pred_tf))"
   ]
  },
  {
   "cell_type": "code",
   "execution_count": 24,
   "id": "6d9dcf3d",
   "metadata": {},
   "outputs": [
    {
     "data": {
      "text/plain": [
       "array([[1183,  119],\n",
       "       [ 340,  624]], dtype=int64)"
      ]
     },
     "execution_count": 24,
     "metadata": {},
     "output_type": "execute_result"
    }
   ],
   "source": [
    "metrics.confusion_matrix(y_test, pred_tf)"
   ]
  },
  {
   "cell_type": "code",
   "execution_count": 25,
   "id": "401a7e16",
   "metadata": {},
   "outputs": [
    {
     "data": {
      "text/plain": [
       "<sklearn.metrics._plot.confusion_matrix.ConfusionMatrixDisplay at 0x29598cad850>"
      ]
     },
     "execution_count": 25,
     "metadata": {},
     "output_type": "execute_result"
    },
    {
     "data": {
      "image/png": "[encoded data removed]",
      "text/plain": [
       "<Figure size 432x288 with 2 Axes>"
      ]
     },
     "metadata": {
      "needs_background": "light"
     },
     "output_type": "display_data"
    }
   ],
   "source": [
    "plot_confusion_matrix(clf_NB_TFIDF, X_test_tf, y_test, cmap='Blues')"
   ]
  },
  {
   "cell_type": "code",
   "execution_count": 26,
   "id": "66122dc9",
   "metadata": {},
   "outputs": [],
   "source": [
    "from sklearn.model_selection import GridSearchCV"
   ]
  },
  {
   "cell_type": "code",
   "execution_count": 27,
   "id": "83f6a523",
   "metadata": {},
   "outputs": [
    {
     "data": {
      "text/plain": [
       "{'alpha': 1.0, 'class_prior': None, 'fit_prior': True}"
      ]
     },
     "execution_count": 27,
     "metadata": {},
     "output_type": "execute_result"
    }
   ],
   "source": [
    "clf.get_params()"
   ]
  },
  {
   "cell_type": "code",
   "execution_count": 28,
   "id": "6b442f36",
   "metadata": {},
   "outputs": [],
   "source": [
    "params = {'alpha':(0.5, 1, 1.5, 1.6, 1.7, 1.8, 1.9, 2)}"
   ]
  },
  {
   "cell_type": "code",
   "execution_count": 29,
   "id": "32e7ed17",
   "metadata": {},
   "outputs": [],
   "source": [
    "cv_clf = GridSearchCV(clf, param_grid = params, cv=5, n_jobs=-1, scoring = balanced_accuracy_score)"
   ]
  },
  {
   "cell_type": "code",
   "execution_count": 30,
   "id": "a5f91e67",
   "metadata": {},
   "outputs": [
    {
     "name": "stderr",
     "output_type": "stream",
     "text": [
      "C:\\Users\\malak\\anaconda3\\lib\\site-packages\\sklearn\\model_selection\\_search.py:918: UserWarning: One or more of the test scores are non-finite: [nan nan nan nan nan nan nan nan]\n",
      "  warnings.warn(\n"
     ]
    },
    {
     "data": {
      "text/plain": [
       "GridSearchCV(cv=5, estimator=MultinomialNB(), n_jobs=-1,\n",
       "             param_grid={'alpha': (0.5, 1, 1.5, 1.6, 1.7, 1.8, 1.9, 2)},\n",
       "             scoring=<function balanced_accuracy_score at 0x0000029597D4B4C0>)"
      ]
     },
     "execution_count": 30,
     "metadata": {},
     "output_type": "execute_result"
    }
   ],
   "source": [
    "cv_clf.fit(X_train_tf, y_train)"
   ]
  },
  {
   "cell_type": "code",
   "execution_count": 31,
   "id": "678779f2",
   "metadata": {},
   "outputs": [
    {
     "data": {
      "text/plain": [
       "{'alpha': 0.5}"
      ]
     },
     "execution_count": 31,
     "metadata": {},
     "output_type": "execute_result"
    }
   ],
   "source": [
    "cv_clf.best_params_"
   ]
  },
  {
   "cell_type": "code",
   "execution_count": 32,
   "id": "358f76da",
   "metadata": {},
   "outputs": [
    {
     "data": {
      "text/plain": [
       "array([0, 0, 1, ..., 1, 1, 0], dtype=int64)"
      ]
     },
     "execution_count": 32,
     "metadata": {},
     "output_type": "execute_result"
    }
   ],
   "source": [
    "clf_best = MultinomialNB(alpha = 0.5)\n",
    "clf_best.fit(X_train_tf, y_train)\n",
    "clf_best.predict(X_test_tf)"
   ]
  },
  {
   "cell_type": "code",
   "execution_count": 94,
   "id": "b8afaa0b",
   "metadata": {},
   "outputs": [
    {
     "name": "stdout",
     "output_type": "stream",
     "text": [
      "train accuracy: 0.9093661305581835 \n",
      " test accuracy: 0.8022947925860547\n"
     ]
    }
   ],
   "source": [
    "print(\"train accuracy:\", clf_best.score(X_train_tf, y_train), \"\\n\", \"test accuracy:\", clf_best.score(X_test_tf, y_test))"
   ]
  },
  {
   "cell_type": "markdown",
   "id": "e3a1b239",
   "metadata": {},
   "source": [
    "# Feature Importance"
   ]
  },
  {
   "cell_type": "code",
   "execution_count": 96,
   "id": "04893a58",
   "metadata": {
    "scrolled": false
   },
   "outputs": [
    {
     "name": "stdout",
     "output_type": "stream",
     "text": [
      "['im' 'just' 'like' 'amp' 'new' 'dont' 'body' 'love' 'people' 'got'\n",
      " 'video' 'emergency' 'know' 'youtube' 'world' 'time' 'want' 'let' 'think'\n",
      " 'day']\n",
      "['news' 'california' 'people' 'disaster' 'suicide' 'fires' 'like' 'killed'\n",
      " 'amp' 'storm' 'crash' 'police' 'buildings' 'wildfire' 'just' 'train'\n",
      " 'emergency' 'families' 'accident' 'nuclear']\n"
     ]
    }
   ],
   "source": [
    "neg_class_prob_sorted = clf_best.feature_log_prob_[0, :].argsort()[::-1]\n",
    "pos_class_prob_sorted = clf_best.feature_log_prob_[1, :].argsort()[::-1]\n",
    "\n",
    "print(np.take(vectorizer.get_feature_names(), neg_class_prob_sorted[:20]))\n",
    "print(np.take(vectorizer.get_feature_names(), pos_class_prob_sorted[:20]))"
   ]
  },
  {
   "cell_type": "markdown",
   "id": "5ce5b108",
   "metadata": {},
   "source": [
    "# SVM Model"
   ]
  },
  {
   "cell_type": "code",
   "execution_count": 36,
   "id": "47ab95e5",
   "metadata": {},
   "outputs": [
    {
     "data": {
      "text/plain": [
       "0.7621359223300971"
      ]
     },
     "execution_count": 36,
     "metadata": {},
     "output_type": "execute_result"
    }
   ],
   "source": [
    "from sklearn.linear_model import SGDClassifier\n",
    "clfs = SGDClassifier(class_weight='balanced')\n",
    "\n",
    "clfs.fit(X_train,y_train)\n",
    "predicted = clfs.predict(X_test)\n",
    "np.mean(predicted == y_test)"
   ]
  },
  {
   "cell_type": "code",
   "execution_count": 37,
   "id": "a833229b",
   "metadata": {},
   "outputs": [
    {
     "data": {
      "text/plain": [
       "array([0.71034483, 0.69700333, 0.70215176, 0.71783296, 0.70428894])"
      ]
     },
     "execution_count": 37,
     "metadata": {},
     "output_type": "execute_result"
    }
   ],
   "source": [
    "scores = model_selection.cross_val_score(clfs, X_train, y_train, cv=5, scoring='f1')\n",
    "scores"
   ]
  },
  {
   "cell_type": "code",
   "execution_count": 38,
   "id": "37e39579",
   "metadata": {},
   "outputs": [
    {
     "data": {
      "text/plain": [
       "0.7855251544571933"
      ]
     },
     "execution_count": 38,
     "metadata": {},
     "output_type": "execute_result"
    }
   ],
   "source": [
    "clfs_tf = clfs.fit(X_train_tf, y_train)\n",
    "predicted_tf = clfs_tf.predict(X_test_tf)\n",
    "np.mean(predicted_tf == y_test)"
   ]
  },
  {
   "cell_type": "code",
   "execution_count": 39,
   "id": "1e609882",
   "metadata": {},
   "outputs": [
    {
     "data": {
      "text/plain": [
       "array([0.74226804, 0.71524664, 0.72997712, 0.73957159, 0.73159683])"
      ]
     },
     "execution_count": 39,
     "metadata": {},
     "output_type": "execute_result"
    }
   ],
   "source": [
    "scores = model_selection.cross_val_score(clfs_tf, X_train_tf, y_train, cv=5, scoring='f1')\n",
    "scores"
   ]
  },
  {
   "cell_type": "code",
   "execution_count": 40,
   "id": "529b5e75",
   "metadata": {},
   "outputs": [
    {
     "name": "stdout",
     "output_type": "stream",
     "text": [
      "              precision    recall  f1-score   support\n",
      "\n",
      "           0       0.80      0.84      0.82      1302\n",
      "           1       0.77      0.71      0.74       964\n",
      "\n",
      "    accuracy                           0.79      2266\n",
      "   macro avg       0.78      0.78      0.78      2266\n",
      "weighted avg       0.78      0.79      0.78      2266\n",
      "\n"
     ]
    }
   ],
   "source": [
    "print(metrics.classification_report(y_test, predicted_tf))"
   ]
  },
  {
   "cell_type": "code",
   "execution_count": 41,
   "id": "4620e01a",
   "metadata": {
    "scrolled": true
   },
   "outputs": [
    {
     "data": {
      "text/plain": [
       "array([[1093,  209],\n",
       "       [ 277,  687]], dtype=int64)"
      ]
     },
     "execution_count": 41,
     "metadata": {},
     "output_type": "execute_result"
    }
   ],
   "source": [
    "metrics.confusion_matrix(y_test, predicted_tf)"
   ]
  },
  {
   "cell_type": "code",
   "execution_count": 42,
   "id": "46ace984",
   "metadata": {},
   "outputs": [
    {
     "data": {
      "text/plain": [
       "<sklearn.metrics._plot.confusion_matrix.ConfusionMatrixDisplay at 0x2959902de20>"
      ]
     },
     "execution_count": 42,
     "metadata": {},
     "output_type": "execute_result"
    },
    {
     "data": {
      "image/png": "[encoded data removed]",
      "text/plain": [
       "<Figure size 432x288 with 2 Axes>"
      ]
     },
     "metadata": {
      "needs_background": "light"
     },
     "output_type": "display_data"
    }
   ],
   "source": [
    "plot_confusion_matrix(clfs_tf, X_test_tf, y_test, cmap='Blues')"
   ]
  },
  {
   "cell_type": "code",
   "execution_count": 43,
   "id": "5209de4b",
   "metadata": {},
   "outputs": [
    {
     "data": {
      "text/plain": [
       "{'alpha': 0.0001,\n",
       " 'average': False,\n",
       " 'class_weight': 'balanced',\n",
       " 'early_stopping': False,\n",
       " 'epsilon': 0.1,\n",
       " 'eta0': 0.0,\n",
       " 'fit_intercept': True,\n",
       " 'l1_ratio': 0.15,\n",
       " 'learning_rate': 'optimal',\n",
       " 'loss': 'hinge',\n",
       " 'max_iter': 1000,\n",
       " 'n_iter_no_change': 5,\n",
       " 'n_jobs': None,\n",
       " 'penalty': 'l2',\n",
       " 'power_t': 0.5,\n",
       " 'random_state': None,\n",
       " 'shuffle': True,\n",
       " 'tol': 0.001,\n",
       " 'validation_fraction': 0.1,\n",
       " 'verbose': 0,\n",
       " 'warm_start': False}"
      ]
     },
     "execution_count": 43,
     "metadata": {},
     "output_type": "execute_result"
    }
   ],
   "source": [
    "clfs.get_params()"
   ]
  },
  {
   "cell_type": "code",
   "execution_count": 44,
   "id": "86e2e2a3",
   "metadata": {},
   "outputs": [],
   "source": [
    "params_clfs = {'alpha' :(0.001, 0.0001)}"
   ]
  },
  {
   "cell_type": "code",
   "execution_count": 45,
   "id": "9e413416",
   "metadata": {},
   "outputs": [],
   "source": [
    "cv_clfs = GridSearchCV(clfs_tf, param_grid = params_clfs, cv=5, n_jobs=-1)"
   ]
  },
  {
   "cell_type": "code",
   "execution_count": 46,
   "id": "17ef6d09",
   "metadata": {},
   "outputs": [
    {
     "data": {
      "text/plain": [
       "GridSearchCV(cv=5, estimator=SGDClassifier(class_weight='balanced'), n_jobs=-1,\n",
       "             param_grid={'alpha': (0.001, 0.0001)})"
      ]
     },
     "execution_count": 46,
     "metadata": {},
     "output_type": "execute_result"
    }
   ],
   "source": [
    "cv_clfs.fit(X_train_tf, y_train)"
   ]
  },
  {
   "cell_type": "code",
   "execution_count": 47,
   "id": "a6910362",
   "metadata": {},
   "outputs": [
    {
     "data": {
      "text/plain": [
       "{'alpha': 0.001}"
      ]
     },
     "execution_count": 47,
     "metadata": {},
     "output_type": "execute_result"
    }
   ],
   "source": [
    "cv_clfs.best_params_"
   ]
  },
  {
   "cell_type": "code",
   "execution_count": 48,
   "id": "6dc532fe",
   "metadata": {},
   "outputs": [],
   "source": [
    "clfs_best = SGDClassifier(alpha = 0.0001)\n",
    "clfs_best.fit(X_train_tf, y_train)\n",
    "predtf_best = clfs_best.predict(X_test_tf)"
   ]
  },
  {
   "cell_type": "code",
   "execution_count": 49,
   "id": "8d4e6115",
   "metadata": {},
   "outputs": [
    {
     "name": "stdout",
     "output_type": "stream",
     "text": [
      "train accuracy: 0.9509933774834437 \n",
      " test accuracy: 0.7925860547219771\n"
     ]
    }
   ],
   "source": [
    "print(\"train accuracy:\", clfs_best.score(X_train_tf, y_train), \"\\n\", \"test accuracy:\", clfs_best.score(X_test_tf, y_test))"
   ]
  },
  {
   "cell_type": "markdown",
   "id": "29391202",
   "metadata": {},
   "source": [
    "# Logistic Regression Model"
   ]
  },
  {
   "cell_type": "code",
   "execution_count": 53,
   "id": "4df37c0a",
   "metadata": {},
   "outputs": [],
   "source": [
    "from sklearn.linear_model import LogisticRegression"
   ]
  },
  {
   "cell_type": "code",
   "execution_count": 54,
   "id": "1c80f6d8",
   "metadata": {},
   "outputs": [],
   "source": [
    "clf_lr = LogisticRegression()"
   ]
  },
  {
   "cell_type": "code",
   "execution_count": 55,
   "id": "ffd58b94",
   "metadata": {},
   "outputs": [
    {
     "data": {
      "text/plain": [
       "array([0.74424242, 0.71752086, 0.73568819, 0.75358852, 0.73634204])"
      ]
     },
     "execution_count": 55,
     "metadata": {},
     "output_type": "execute_result"
    }
   ],
   "source": [
    "scores = model_selection.cross_val_score(clf_lr, X_train, y_train, cv=5, scoring='f1')\n",
    "scores"
   ]
  },
  {
   "cell_type": "code",
   "execution_count": 56,
   "id": "17b273ea",
   "metadata": {},
   "outputs": [
    {
     "data": {
      "text/plain": [
       "LogisticRegression()"
      ]
     },
     "execution_count": 56,
     "metadata": {},
     "output_type": "execute_result"
    }
   ],
   "source": [
    "clf_lr.fit(X_train, y_train)"
   ]
  },
  {
   "cell_type": "code",
   "execution_count": 57,
   "id": "1aecf812",
   "metadata": {},
   "outputs": [],
   "source": [
    "y_pr = clf_lr.predict(X_test)"
   ]
  },
  {
   "cell_type": "code",
   "execution_count": 58,
   "id": "93ec13d1",
   "metadata": {},
   "outputs": [
    {
     "data": {
      "text/plain": [
       "0.793909973521624"
      ]
     },
     "execution_count": 58,
     "metadata": {},
     "output_type": "execute_result"
    }
   ],
   "source": [
    "np.mean(y_test == y_pr)"
   ]
  },
  {
   "cell_type": "code",
   "execution_count": 59,
   "id": "50c1d605",
   "metadata": {},
   "outputs": [
    {
     "data": {
      "text/plain": [
       "array([0.73232323, 0.69035533, 0.72151899, 0.73350254, 0.7079646 ])"
      ]
     },
     "execution_count": 59,
     "metadata": {},
     "output_type": "execute_result"
    }
   ],
   "source": [
    "clf_lr_tfidf = LogisticRegression()\n",
    "scores = model_selection.cross_val_score(clf_lr_tfidf, X_train_tf, y_train, cv=5, scoring='f1')\n",
    "scores"
   ]
  },
  {
   "cell_type": "code",
   "execution_count": 60,
   "id": "0c5058bb",
   "metadata": {},
   "outputs": [
    {
     "data": {
      "text/plain": [
       "LogisticRegression()"
      ]
     },
     "execution_count": 60,
     "metadata": {},
     "output_type": "execute_result"
    }
   ],
   "source": [
    "clf_lr_tfidf.fit(X_train_tf, y_train)"
   ]
  },
  {
   "cell_type": "code",
   "execution_count": 61,
   "id": "1cd5113f",
   "metadata": {},
   "outputs": [],
   "source": [
    "y_pr_tf = clf_lr_tfidf.predict(X_test_tf)"
   ]
  },
  {
   "cell_type": "code",
   "execution_count": 62,
   "id": "ee2dceff",
   "metadata": {},
   "outputs": [
    {
     "name": "stdout",
     "output_type": "stream",
     "text": [
      "              precision    recall  f1-score   support\n",
      "\n",
      "           0       0.77      0.92      0.84      1302\n",
      "           1       0.85      0.64      0.73       964\n",
      "\n",
      "    accuracy                           0.80      2266\n",
      "   macro avg       0.81      0.78      0.78      2266\n",
      "weighted avg       0.81      0.80      0.79      2266\n",
      "\n"
     ]
    }
   ],
   "source": [
    "print(metrics.classification_report(y_test, y_pr_tf))"
   ]
  },
  {
   "cell_type": "code",
   "execution_count": 63,
   "id": "e707516b",
   "metadata": {},
   "outputs": [
    {
     "data": {
      "text/plain": [
       "array([[1195,  107],\n",
       "       [ 351,  613]], dtype=int64)"
      ]
     },
     "execution_count": 63,
     "metadata": {},
     "output_type": "execute_result"
    }
   ],
   "source": [
    "metrics.confusion_matrix(y_test, y_pr_tf)"
   ]
  },
  {
   "cell_type": "code",
   "execution_count": 64,
   "id": "802f1c4b",
   "metadata": {},
   "outputs": [
    {
     "data": {
      "text/plain": [
       "<sklearn.metrics._plot.confusion_matrix.ConfusionMatrixDisplay at 0x29599055ee0>"
      ]
     },
     "execution_count": 64,
     "metadata": {},
     "output_type": "execute_result"
    },
    {
     "data": {
      "image/png": "[encoded data removed]",
      "text/plain": [
       "<Figure size 432x288 with 2 Axes>"
      ]
     },
     "metadata": {
      "needs_background": "light"
     },
     "output_type": "display_data"
    }
   ],
   "source": [
    "plot_confusion_matrix(clf_lr_tfidf, X_test_tf, y_test, cmap='Blues')"
   ]
  },
  {
   "cell_type": "code",
   "execution_count": 65,
   "id": "84a80d71",
   "metadata": {},
   "outputs": [
    {
     "data": {
      "text/plain": [
       "{'C': 1.0,\n",
       " 'class_weight': None,\n",
       " 'dual': False,\n",
       " 'fit_intercept': True,\n",
       " 'intercept_scaling': 1,\n",
       " 'l1_ratio': None,\n",
       " 'max_iter': 100,\n",
       " 'multi_class': 'auto',\n",
       " 'n_jobs': None,\n",
       " 'penalty': 'l2',\n",
       " 'random_state': None,\n",
       " 'solver': 'lbfgs',\n",
       " 'tol': 0.0001,\n",
       " 'verbose': 0,\n",
       " 'warm_start': False}"
      ]
     },
     "execution_count": 65,
     "metadata": {},
     "output_type": "execute_result"
    }
   ],
   "source": [
    "clf_lr_tfidf.get_params()"
   ]
  },
  {
   "cell_type": "code",
   "execution_count": 66,
   "id": "8f9cd8ef",
   "metadata": {},
   "outputs": [],
   "source": [
    "params_lr = {'C': (0.5, 1.0, 1.5, 2.0)}"
   ]
  },
  {
   "cell_type": "code",
   "execution_count": 67,
   "id": "7710a2f5",
   "metadata": {},
   "outputs": [],
   "source": [
    "clf_lr_cv = GridSearchCV(clf_lr, param_grid = params_lr, cv=5, scoring=balanced_accuracy_score, n_jobs=-1)"
   ]
  },
  {
   "cell_type": "code",
   "execution_count": 68,
   "id": "9d925b82",
   "metadata": {},
   "outputs": [
    {
     "name": "stderr",
     "output_type": "stream",
     "text": [
      "C:\\Users\\malak\\anaconda3\\lib\\site-packages\\sklearn\\model_selection\\_search.py:918: UserWarning: One or more of the test scores are non-finite: [nan nan nan nan]\n",
      "  warnings.warn(\n"
     ]
    },
    {
     "data": {
      "text/plain": [
       "GridSearchCV(cv=5, estimator=LogisticRegression(), n_jobs=-1,\n",
       "             param_grid={'C': (0.5, 1.0, 1.5, 2.0)},\n",
       "             scoring=<function balanced_accuracy_score at 0x0000029597D4B4C0>)"
      ]
     },
     "execution_count": 68,
     "metadata": {},
     "output_type": "execute_result"
    }
   ],
   "source": [
    "clf_lr_cv.fit(X_train_tf, y_train)"
   ]
  },
  {
   "cell_type": "code",
   "execution_count": 69,
   "id": "29d15134",
   "metadata": {},
   "outputs": [
    {
     "data": {
      "text/plain": [
       "{'C': 0.5}"
      ]
     },
     "execution_count": 69,
     "metadata": {},
     "output_type": "execute_result"
    }
   ],
   "source": [
    "clf_lr_cv.best_params_"
   ]
  },
  {
   "cell_type": "code",
   "execution_count": 70,
   "id": "dac0f0c6",
   "metadata": {},
   "outputs": [],
   "source": [
    "clf_lr_best = LogisticRegression(C=0.5)"
   ]
  },
  {
   "cell_type": "code",
   "execution_count": 71,
   "id": "c2ac1338",
   "metadata": {},
   "outputs": [],
   "source": [
    "clf_lr_best.fit(X_train_tf, y_train)\n",
    "ypred_best = clf_lr_best.predict(X_test_tf)"
   ]
  },
  {
   "cell_type": "code",
   "execution_count": 95,
   "id": "fca20d56",
   "metadata": {},
   "outputs": [
    {
     "name": "stdout",
     "output_type": "stream",
     "text": [
      "train accuracy: 0.8454115421002838 \n",
      " test accuracy: 0.7890556045895851\n"
     ]
    }
   ],
   "source": [
    "print(\"train accuracy:\", clf_lr_best.score(X_train_tf, y_train), \"\\n\", \"test accuracy:\", clf_lr_best.score(X_test_tf, y_test))"
   ]
  },
  {
   "cell_type": "markdown",
   "id": "7d2fd136",
   "metadata": {},
   "source": [
    "# Conclusions"
   ]
  },
  {
   "cell_type": "markdown",
   "id": "65a7f10f",
   "metadata": {},
   "source": [
    "The train and test accuracy, as well as accuracy and recall scores imply that the best performing model is the Naive Bayes Model, followed by SVM, and then logistic regression."
   ]
  }
 ],
 "metadata": {
  "kernelspec": {
   "display_name": "Python 3",
   "language": "python",
   "name": "python3"
  },
  "language_info": {
   "codemirror_mode": {
    "name": "ipython",
    "version": 3
   },
   "file_extension": ".py",
   "mimetype": "text/x-python",
   "name": "python",
   "nbconvert_exporter": "python",
   "pygments_lexer": "ipython3",
   "version": "3.8.8"
  }
 },
 "nbformat": 4,
 "nbformat_minor": 5
}
