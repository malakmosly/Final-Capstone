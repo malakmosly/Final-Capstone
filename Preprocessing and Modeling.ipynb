{
 "cells": [
  {
   "cell_type": "code",
   "execution_count": 1,
   "id": "9d23f6f4",
   "metadata": {},
   "outputs": [],
   "source": [
    "import pandas as pd\n",
    "import numpy as np\n",
    "import matplotlib.pyplot as  plt\n",
    "\n",
    "from sklearn.feature_extraction.text import CountVectorizer\n",
    "from sklearn import preprocessing, model_selection"
   ]
  },
  {
   "cell_type": "code",
   "execution_count": 2,
   "id": "97cdc2d2",
   "metadata": {},
   "outputs": [],
   "source": [
    "df = pd.read_csv(\"Training Data.csv\")"
   ]
  },
  {
   "cell_type": "code",
   "execution_count": 3,
   "id": "307b94c8",
   "metadata": {},
   "outputs": [
    {
     "data": {
      "text/plain": [
       "Unnamed: 0     0\n",
       "id             0\n",
       "keyword       61\n",
       "text           1\n",
       "target         0\n",
       "dtype: int64"
      ]
     },
     "execution_count": 3,
     "metadata": {},
     "output_type": "execute_result"
    }
   ],
   "source": [
    "df.isnull().sum()"
   ]
  },
  {
   "cell_type": "code",
   "execution_count": 4,
   "id": "2fde6c00",
   "metadata": {},
   "outputs": [],
   "source": [
    "df.dropna(inplace=True)"
   ]
  },
  {
   "cell_type": "code",
   "execution_count": 5,
   "id": "258e84d2",
   "metadata": {},
   "outputs": [],
   "source": [
    "vectorizer = CountVectorizer()\n",
    "X = vectorizer.fit_transform(df['text'])"
   ]
  },
  {
   "cell_type": "code",
   "execution_count": 6,
   "id": "03521c82",
   "metadata": {},
   "outputs": [],
   "source": [
    "y = df['target']"
   ]
  },
  {
   "cell_type": "code",
   "execution_count": 7,
   "id": "b72e84f7",
   "metadata": {},
   "outputs": [],
   "source": [
    "from sklearn.model_selection import train_test_split\n",
    "\n",
    "X_train, X_test, y_train, y_test = train_test_split(X, y, test_size=0.3, random_state=1234)"
   ]
  },
  {
   "cell_type": "code",
   "execution_count": 8,
   "id": "5344cc54",
   "metadata": {},
   "outputs": [
    {
     "data": {
      "text/plain": [
       "((5285, 16513), (2266, 16513))"
      ]
     },
     "execution_count": 8,
     "metadata": {},
     "output_type": "execute_result"
    }
   ],
   "source": [
    "X_train.shape, X_test.shape"
   ]
  },
  {
   "cell_type": "code",
   "execution_count": 9,
   "id": "27bab47a",
   "metadata": {},
   "outputs": [
    {
     "data": {
      "text/plain": [
       "((5285,), (2266,))"
      ]
     },
     "execution_count": 9,
     "metadata": {},
     "output_type": "execute_result"
    }
   ],
   "source": [
    "y_train.shape, y_test.shape"
   ]
  },
  {
   "cell_type": "code",
   "execution_count": 10,
   "id": "f85e664a",
   "metadata": {},
   "outputs": [
    {
     "data": {
      "text/plain": [
       "<5285x16513 sparse matrix of type '<class 'numpy.int64'>'\n",
       "\twith 65275 stored elements in Compressed Sparse Row format>"
      ]
     },
     "execution_count": 10,
     "metadata": {},
     "output_type": "execute_result"
    }
   ],
   "source": [
    "X_train"
   ]
  },
  {
   "cell_type": "code",
   "execution_count": 11,
   "id": "067baad3",
   "metadata": {},
   "outputs": [
    {
     "data": {
      "text/plain": [
       "(5285, 16513)"
      ]
     },
     "execution_count": 11,
     "metadata": {},
     "output_type": "execute_result"
    }
   ],
   "source": [
    "from sklearn.feature_extraction.text import TfidfTransformer\n",
    "tf_transformer = TfidfTransformer(use_idf=False).fit(X_train)\n",
    "X_train_tf = tf_transformer.transform(X_train)\n",
    "X_train_tf.shape"
   ]
  },
  {
   "cell_type": "code",
   "execution_count": 12,
   "id": "fddbbeaa",
   "metadata": {},
   "outputs": [
    {
     "data": {
      "text/plain": [
       "(2266, 16513)"
      ]
     },
     "execution_count": 12,
     "metadata": {},
     "output_type": "execute_result"
    }
   ],
   "source": [
    "tf_transformer = TfidfTransformer(use_idf=False).fit(X_test)\n",
    "X_test_tf = tf_transformer.transform(X_test)\n",
    "X_test_tf.shape"
   ]
  },
  {
   "cell_type": "markdown",
   "id": "3f21e7dc",
   "metadata": {},
   "source": [
    "# Naive Bayes Model"
   ]
  },
  {
   "cell_type": "code",
   "execution_count": 13,
   "id": "d02d868a",
   "metadata": {},
   "outputs": [
    {
     "data": {
      "text/plain": [
       "MultinomialNB()"
      ]
     },
     "execution_count": 13,
     "metadata": {},
     "output_type": "execute_result"
    }
   ],
   "source": [
    "from sklearn.naive_bayes import MultinomialNB\n",
    "clf = MultinomialNB()\n",
    "clf.fit(X_train, y_train)"
   ]
  },
  {
   "cell_type": "code",
   "execution_count": 14,
   "id": "a1afd984",
   "metadata": {},
   "outputs": [],
   "source": [
    "pred = clf.predict(X_test)"
   ]
  },
  {
   "cell_type": "code",
   "execution_count": 15,
   "id": "9163d705",
   "metadata": {},
   "outputs": [
    {
     "data": {
      "text/plain": [
       "0.8040600176522507"
      ]
     },
     "execution_count": 15,
     "metadata": {},
     "output_type": "execute_result"
    }
   ],
   "source": [
    "np.mean(pred == y_test)"
   ]
  },
  {
   "cell_type": "markdown",
   "id": "e885752f",
   "metadata": {},
   "source": [
    "The Naive Bayes Model achieves 80.41% accuracy."
   ]
  },
  {
   "cell_type": "code",
   "execution_count": 16,
   "id": "1003879e",
   "metadata": {},
   "outputs": [
    {
     "data": {
      "text/plain": [
       "array([0.73246136, 0.72938444, 0.73978996, 0.76267281, 0.73341094])"
      ]
     },
     "execution_count": 16,
     "metadata": {},
     "output_type": "execute_result"
    }
   ],
   "source": [
    "scores = model_selection.cross_val_score(clf, X_train, y_train, cv=5, scoring=\"f1\")\n",
    "scores"
   ]
  },
  {
   "cell_type": "code",
   "execution_count": 17,
   "id": "779a7cef",
   "metadata": {},
   "outputs": [
    {
     "data": {
      "text/plain": [
       "MultinomialNB()"
      ]
     },
     "execution_count": 17,
     "metadata": {},
     "output_type": "execute_result"
    }
   ],
   "source": [
    "clf_NB_TFIDF = MultinomialNB()\n",
    "clf_NB_TFIDF.fit(X_train_tf, y_train)"
   ]
  },
  {
   "cell_type": "code",
   "execution_count": 18,
   "id": "3e36ea5d",
   "metadata": {},
   "outputs": [],
   "source": [
    "pred_tf = clf_NB_TFIDF.predict(X_test_tf)"
   ]
  },
  {
   "cell_type": "code",
   "execution_count": 19,
   "id": "d854d961",
   "metadata": {},
   "outputs": [
    {
     "data": {
      "text/plain": [
       "0.79567519858782"
      ]
     },
     "execution_count": 19,
     "metadata": {},
     "output_type": "execute_result"
    }
   ],
   "source": [
    "np.mean(pred_tf == y_test)"
   ]
  },
  {
   "cell_type": "code",
   "execution_count": 20,
   "id": "1d1924dc",
   "metadata": {
    "scrolled": true
   },
   "outputs": [
    {
     "data": {
      "text/plain": [
       "array([0.68556005, 0.67371202, 0.69425901, 0.71895425, 0.68073879])"
      ]
     },
     "execution_count": 20,
     "metadata": {},
     "output_type": "execute_result"
    }
   ],
   "source": [
    "scores = model_selection.cross_val_score(clf_NB_TFIDF, X_train_tf, y_train, cv=5, scoring=\"f1\")\n",
    "scores"
   ]
  },
  {
   "cell_type": "code",
   "execution_count": 21,
   "id": "56b695bb",
   "metadata": {},
   "outputs": [
    {
     "name": "stdout",
     "output_type": "stream",
     "text": [
      "              precision    recall  f1-score   support\n",
      "\n",
      "           0       0.76      0.94      0.84      1302\n",
      "           1       0.89      0.60      0.71       964\n",
      "\n",
      "    accuracy                           0.80      2266\n",
      "   macro avg       0.82      0.77      0.78      2266\n",
      "weighted avg       0.81      0.80      0.79      2266\n",
      "\n"
     ]
    }
   ],
   "source": [
    "from sklearn import metrics\n",
    "from sklearn.metrics import accuracy_score, plot_confusion_matrix, confusion_matrix, ConfusionMatrixDisplay\n",
    "print(metrics.classification_report(y_test, pred_tf))"
   ]
  },
  {
   "cell_type": "code",
   "execution_count": 22,
   "id": "6d9dcf3d",
   "metadata": {},
   "outputs": [
    {
     "data": {
      "text/plain": [
       "array([[1228,   74],\n",
       "       [ 389,  575]], dtype=int64)"
      ]
     },
     "execution_count": 22,
     "metadata": {},
     "output_type": "execute_result"
    }
   ],
   "source": [
    "metrics.confusion_matrix(y_test, pred_tf)"
   ]
  },
  {
   "cell_type": "code",
   "execution_count": 23,
   "id": "401a7e16",
   "metadata": {},
   "outputs": [
    {
     "data": {
      "text/plain": [
       "<sklearn.metrics._plot.confusion_matrix.ConfusionMatrixDisplay at 0x1e6e7b2ffa0>"
      ]
     },
     "execution_count": 23,
     "metadata": {},
     "output_type": "execute_result"
    },
    {
     "data": {
      "image/png": "[encoded data removed]",
      "text/plain": [
       "<Figure size 432x288 with 2 Axes>"
      ]
     },
     "metadata": {
      "needs_background": "light"
     },
     "output_type": "display_data"
    }
   ],
   "source": [
    "plot_confusion_matrix(clf_NB_TFIDF, X_test_tf, y_test, cmap='Blues')"
   ]
  },
  {
   "cell_type": "code",
   "execution_count": 24,
   "id": "66122dc9",
   "metadata": {},
   "outputs": [],
   "source": [
    "from sklearn.model_selection import GridSearchCV"
   ]
  },
  {
   "cell_type": "code",
   "execution_count": 25,
   "id": "83f6a523",
   "metadata": {},
   "outputs": [
    {
     "data": {
      "text/plain": [
       "{'alpha': 1.0, 'class_prior': None, 'fit_prior': True}"
      ]
     },
     "execution_count": 25,
     "metadata": {},
     "output_type": "execute_result"
    }
   ],
   "source": [
    "clf.get_params()"
   ]
  },
  {
   "cell_type": "code",
   "execution_count": 26,
   "id": "6b442f36",
   "metadata": {},
   "outputs": [],
   "source": [
    "params = {'alpha':(0.5, 1, 1.5, 1.6, 1.7, 1.8, 1.9, 2)}"
   ]
  },
  {
   "cell_type": "code",
   "execution_count": 27,
   "id": "32e7ed17",
   "metadata": {},
   "outputs": [],
   "source": [
    "cv_clf = GridSearchCV(clf, param_grid = params, cv=5, n_jobs=-1)"
   ]
  },
  {
   "cell_type": "code",
   "execution_count": 28,
   "id": "a5f91e67",
   "metadata": {},
   "outputs": [
    {
     "data": {
      "text/plain": [
       "GridSearchCV(cv=5, estimator=MultinomialNB(), n_jobs=-1,\n",
       "             param_grid={'alpha': (0.5, 1, 1.5, 1.6, 1.7, 1.8, 1.9, 2)})"
      ]
     },
     "execution_count": 28,
     "metadata": {},
     "output_type": "execute_result"
    }
   ],
   "source": [
    "cv_clf.fit(X_train_tf, y_train)"
   ]
  },
  {
   "cell_type": "code",
   "execution_count": 29,
   "id": "678779f2",
   "metadata": {},
   "outputs": [
    {
     "data": {
      "text/plain": [
       "{'alpha': 0.5}"
      ]
     },
     "execution_count": 29,
     "metadata": {},
     "output_type": "execute_result"
    }
   ],
   "source": [
    "cv_clf.best_params_"
   ]
  },
  {
   "cell_type": "code",
   "execution_count": 30,
   "id": "358f76da",
   "metadata": {},
   "outputs": [
    {
     "data": {
      "text/plain": [
       "array([0, 0, 1, ..., 1, 1, 0], dtype=int64)"
      ]
     },
     "execution_count": 30,
     "metadata": {},
     "output_type": "execute_result"
    }
   ],
   "source": [
    "clf_best = MultinomialNB(alpha = 0.5)\n",
    "clf_best.fit(X_train_tf, y_train)\n",
    "clf_best.predict(X_test_tf)"
   ]
  },
  {
   "cell_type": "code",
   "execution_count": 31,
   "id": "b8afaa0b",
   "metadata": {},
   "outputs": [
    {
     "name": "stdout",
     "output_type": "stream",
     "text": [
      "train accuracy: 0.8804162724692526 \n",
      " test accuracy: 0.8040600176522507\n"
     ]
    }
   ],
   "source": [
    "print(\"train accuracy:\", clf_best.score(X_train_tf, y_train), \"\\n\", \"test accuracy:\", clf_best.score(X_test_tf, y_test))"
   ]
  },
  {
   "cell_type": "markdown",
   "id": "5ce5b108",
   "metadata": {},
   "source": [
    "# SVM Model"
   ]
  },
  {
   "cell_type": "code",
   "execution_count": 32,
   "id": "47ab95e5",
   "metadata": {},
   "outputs": [
    {
     "data": {
      "text/plain": [
       "0.7846425419240953"
      ]
     },
     "execution_count": 32,
     "metadata": {},
     "output_type": "execute_result"
    }
   ],
   "source": [
    "from sklearn.linear_model import SGDClassifier\n",
    "clfs = SGDClassifier()\n",
    "\n",
    "clfs.fit(X_train,y_train)\n",
    "predicted = clfs.predict(X_test)\n",
    "np.mean(predicted == y_test)"
   ]
  },
  {
   "cell_type": "code",
   "execution_count": 33,
   "id": "a833229b",
   "metadata": {},
   "outputs": [
    {
     "data": {
      "text/plain": [
       "array([0.71596244, 0.6960452 , 0.70833333, 0.72991071, 0.69931663])"
      ]
     },
     "execution_count": 33,
     "metadata": {},
     "output_type": "execute_result"
    }
   ],
   "source": [
    "scores = model_selection.cross_val_score(clfs, X_train, y_train, cv=5, scoring='f1')\n",
    "scores"
   ]
  },
  {
   "cell_type": "code",
   "execution_count": 34,
   "id": "37e39579",
   "metadata": {},
   "outputs": [
    {
     "data": {
      "text/plain": [
       "0.8053839364518977"
      ]
     },
     "execution_count": 34,
     "metadata": {},
     "output_type": "execute_result"
    }
   ],
   "source": [
    "clfs_tf = clfs.fit(X_train_tf, y_train)\n",
    "predicted_tf = clfs_tf.predict(X_test_tf)\n",
    "np.mean(predicted_tf == y_test)"
   ]
  },
  {
   "cell_type": "code",
   "execution_count": 35,
   "id": "1e609882",
   "metadata": {},
   "outputs": [
    {
     "data": {
      "text/plain": [
       "array([0.72553699, 0.71648873, 0.73798077, 0.74380165, 0.72274882])"
      ]
     },
     "execution_count": 35,
     "metadata": {},
     "output_type": "execute_result"
    }
   ],
   "source": [
    "scores = model_selection.cross_val_score(clfs_tf, X_train_tf, y_train, cv=5, scoring='f1')\n",
    "scores"
   ]
  },
  {
   "cell_type": "code",
   "execution_count": 36,
   "id": "529b5e75",
   "metadata": {},
   "outputs": [
    {
     "name": "stdout",
     "output_type": "stream",
     "text": [
      "              precision    recall  f1-score   support\n",
      "\n",
      "           0       0.80      0.88      0.84      1302\n",
      "           1       0.81      0.70      0.75       964\n",
      "\n",
      "    accuracy                           0.81      2266\n",
      "   macro avg       0.81      0.79      0.80      2266\n",
      "weighted avg       0.81      0.81      0.80      2266\n",
      "\n"
     ]
    }
   ],
   "source": [
    "print(metrics.classification_report(y_test, predicted_tf))"
   ]
  },
  {
   "cell_type": "code",
   "execution_count": 37,
   "id": "4620e01a",
   "metadata": {
    "scrolled": true
   },
   "outputs": [
    {
     "data": {
      "text/plain": [
       "array([[1148,  154],\n",
       "       [ 287,  677]], dtype=int64)"
      ]
     },
     "execution_count": 37,
     "metadata": {},
     "output_type": "execute_result"
    }
   ],
   "source": [
    "metrics.confusion_matrix(y_test, predicted_tf)"
   ]
  },
  {
   "cell_type": "code",
   "execution_count": 38,
   "id": "46ace984",
   "metadata": {},
   "outputs": [
    {
     "data": {
      "text/plain": [
       "<sklearn.metrics._plot.confusion_matrix.ConfusionMatrixDisplay at 0x1e6e7fe8310>"
      ]
     },
     "execution_count": 38,
     "metadata": {},
     "output_type": "execute_result"
    },
    {
     "data": {
      "image/png": "[encoded data removed]",
      "text/plain": [
       "<Figure size 432x288 with 2 Axes>"
      ]
     },
     "metadata": {
      "needs_background": "light"
     },
     "output_type": "display_data"
    }
   ],
   "source": [
    "plot_confusion_matrix(clfs_tf, X_test_tf, y_test, cmap='Blues')"
   ]
  },
  {
   "cell_type": "code",
   "execution_count": 39,
   "id": "5209de4b",
   "metadata": {},
   "outputs": [
    {
     "data": {
      "text/plain": [
       "{'alpha': 0.0001,\n",
       " 'average': False,\n",
       " 'class_weight': None,\n",
       " 'early_stopping': False,\n",
       " 'epsilon': 0.1,\n",
       " 'eta0': 0.0,\n",
       " 'fit_intercept': True,\n",
       " 'l1_ratio': 0.15,\n",
       " 'learning_rate': 'optimal',\n",
       " 'loss': 'hinge',\n",
       " 'max_iter': 1000,\n",
       " 'n_iter_no_change': 5,\n",
       " 'n_jobs': None,\n",
       " 'penalty': 'l2',\n",
       " 'power_t': 0.5,\n",
       " 'random_state': None,\n",
       " 'shuffle': True,\n",
       " 'tol': 0.001,\n",
       " 'validation_fraction': 0.1,\n",
       " 'verbose': 0,\n",
       " 'warm_start': False}"
      ]
     },
     "execution_count": 39,
     "metadata": {},
     "output_type": "execute_result"
    }
   ],
   "source": [
    "clfs.get_params()"
   ]
  },
  {
   "cell_type": "code",
   "execution_count": 40,
   "id": "86e2e2a3",
   "metadata": {},
   "outputs": [],
   "source": [
    "params_clfs = {'alpha' :(0.001, 0.0001)}"
   ]
  },
  {
   "cell_type": "code",
   "execution_count": 41,
   "id": "9e413416",
   "metadata": {},
   "outputs": [],
   "source": [
    "cv_clfs = GridSearchCV(clfs_tf, param_grid = params_clfs, cv=5, n_jobs=-1)"
   ]
  },
  {
   "cell_type": "code",
   "execution_count": 42,
   "id": "17ef6d09",
   "metadata": {},
   "outputs": [
    {
     "data": {
      "text/plain": [
       "GridSearchCV(cv=5, estimator=SGDClassifier(), n_jobs=-1,\n",
       "             param_grid={'alpha': (0.001, 0.0001)})"
      ]
     },
     "execution_count": 42,
     "metadata": {},
     "output_type": "execute_result"
    }
   ],
   "source": [
    "cv_clfs.fit(X_train_tf, y_train)"
   ]
  },
  {
   "cell_type": "code",
   "execution_count": 43,
   "id": "a6910362",
   "metadata": {},
   "outputs": [
    {
     "data": {
      "text/plain": [
       "{'alpha': 0.0001}"
      ]
     },
     "execution_count": 43,
     "metadata": {},
     "output_type": "execute_result"
    }
   ],
   "source": [
    "cv_clfs.best_params_"
   ]
  },
  {
   "cell_type": "code",
   "execution_count": 44,
   "id": "6dc532fe",
   "metadata": {},
   "outputs": [
    {
     "data": {
      "text/plain": [
       "array([0, 0, 1, ..., 1, 1, 0], dtype=int64)"
      ]
     },
     "execution_count": 44,
     "metadata": {},
     "output_type": "execute_result"
    }
   ],
   "source": [
    "clfs_best = SGDClassifier(alpha = 0.0001)\n",
    "clfs_best.fit(X_train_tf, y_train)\n",
    "clfs_best.predict(X_test_tf)"
   ]
  },
  {
   "cell_type": "code",
   "execution_count": 45,
   "id": "8d4e6115",
   "metadata": {},
   "outputs": [
    {
     "name": "stdout",
     "output_type": "stream",
     "text": [
      "train accuracy: 0.9328287606433302 \n",
      " test accuracy: 0.7992056487202118\n"
     ]
    }
   ],
   "source": [
    "print(\"train accuracy:\", clfs_best.score(X_train_tf, y_train), \"\\n\", \"test accuracy:\", clfs_best.score(X_test_tf, y_test))"
   ]
  },
  {
   "cell_type": "code",
   "execution_count": 46,
   "id": "c2fc8e78",
   "metadata": {},
   "outputs": [
    {
     "data": {
      "text/plain": [
       "0.7992056487202118"
      ]
     },
     "execution_count": 46,
     "metadata": {},
     "output_type": "execute_result"
    }
   ],
   "source": [
    "np.mean(y_test == clfs_best.predict(X_test_tf))"
   ]
  },
  {
   "cell_type": "markdown",
   "id": "29391202",
   "metadata": {},
   "source": [
    "# Logistic Regression Model"
   ]
  },
  {
   "cell_type": "code",
   "execution_count": 47,
   "id": "4df37c0a",
   "metadata": {},
   "outputs": [],
   "source": [
    "from sklearn.linear_model import LogisticRegression"
   ]
  },
  {
   "cell_type": "code",
   "execution_count": 48,
   "id": "1c80f6d8",
   "metadata": {},
   "outputs": [],
   "source": [
    "clf_lr = LogisticRegression()"
   ]
  },
  {
   "cell_type": "code",
   "execution_count": 49,
   "id": "ffd58b94",
   "metadata": {},
   "outputs": [
    {
     "data": {
      "text/plain": [
       "array([0.73621103, 0.73584906, 0.74224344, 0.75845974, 0.72142857])"
      ]
     },
     "execution_count": 49,
     "metadata": {},
     "output_type": "execute_result"
    }
   ],
   "source": [
    "scores = model_selection.cross_val_score(clf_lr, X_train, y_train, cv=5, scoring='f1')\n",
    "scores"
   ]
  },
  {
   "cell_type": "code",
   "execution_count": 50,
   "id": "17b273ea",
   "metadata": {},
   "outputs": [
    {
     "data": {
      "text/plain": [
       "LogisticRegression()"
      ]
     },
     "execution_count": 50,
     "metadata": {},
     "output_type": "execute_result"
    }
   ],
   "source": [
    "clf_lr.fit(X_train, y_train)"
   ]
  },
  {
   "cell_type": "code",
   "execution_count": 51,
   "id": "1aecf812",
   "metadata": {},
   "outputs": [],
   "source": [
    "y_pr = clf_lr.predict(X_test)"
   ]
  },
  {
   "cell_type": "code",
   "execution_count": 52,
   "id": "93ec13d1",
   "metadata": {},
   "outputs": [
    {
     "data": {
      "text/plain": [
       "0.7983230361871139"
      ]
     },
     "execution_count": 52,
     "metadata": {},
     "output_type": "execute_result"
    }
   ],
   "source": [
    "np.mean(y_test == y_pr)"
   ]
  },
  {
   "cell_type": "code",
   "execution_count": 53,
   "id": "50c1d605",
   "metadata": {},
   "outputs": [
    {
     "data": {
      "text/plain": [
       "array([0.71215881, 0.70197044, 0.71481943, 0.72727273, 0.69900498])"
      ]
     },
     "execution_count": 53,
     "metadata": {},
     "output_type": "execute_result"
    }
   ],
   "source": [
    "clf_lr_tfidf = LogisticRegression()\n",
    "scores = model_selection.cross_val_score(clf_lr_tfidf, X_train_tf, y_train, cv=5, scoring='f1')\n",
    "scores"
   ]
  },
  {
   "cell_type": "code",
   "execution_count": 54,
   "id": "0c5058bb",
   "metadata": {},
   "outputs": [
    {
     "data": {
      "text/plain": [
       "LogisticRegression()"
      ]
     },
     "execution_count": 54,
     "metadata": {},
     "output_type": "execute_result"
    }
   ],
   "source": [
    "clf_lr_tfidf.fit(X_train_tf, y_train)"
   ]
  },
  {
   "cell_type": "code",
   "execution_count": 55,
   "id": "1cd5113f",
   "metadata": {},
   "outputs": [],
   "source": [
    "y_pr_tf = clf_lr_tfidf.predict(X_test_tf)"
   ]
  },
  {
   "cell_type": "code",
   "execution_count": 56,
   "id": "ee2dceff",
   "metadata": {},
   "outputs": [
    {
     "name": "stdout",
     "output_type": "stream",
     "text": [
      "              precision    recall  f1-score   support\n",
      "\n",
      "           0       0.78      0.90      0.84      1302\n",
      "           1       0.83      0.66      0.74       964\n",
      "\n",
      "    accuracy                           0.80      2266\n",
      "   macro avg       0.81      0.78      0.79      2266\n",
      "weighted avg       0.81      0.80      0.80      2266\n",
      "\n"
     ]
    }
   ],
   "source": [
    "print(metrics.classification_report(y_test, y_pr_tf))"
   ]
  },
  {
   "cell_type": "code",
   "execution_count": 57,
   "id": "e707516b",
   "metadata": {},
   "outputs": [
    {
     "data": {
      "text/plain": [
       "array([[1175,  127],\n",
       "       [ 323,  641]], dtype=int64)"
      ]
     },
     "execution_count": 57,
     "metadata": {},
     "output_type": "execute_result"
    }
   ],
   "source": [
    "metrics.confusion_matrix(y_test, y_pr_tf)"
   ]
  },
  {
   "cell_type": "code",
   "execution_count": 58,
   "id": "802f1c4b",
   "metadata": {},
   "outputs": [
    {
     "data": {
      "text/plain": [
       "<sklearn.metrics._plot.confusion_matrix.ConfusionMatrixDisplay at 0x1e6e87ec3a0>"
      ]
     },
     "execution_count": 58,
     "metadata": {},
     "output_type": "execute_result"
    },
    {
     "data": {
      "image/png": "[encoded data removed]",
      "text/plain": [
       "<Figure size 432x288 with 2 Axes>"
      ]
     },
     "metadata": {
      "needs_background": "light"
     },
     "output_type": "display_data"
    }
   ],
   "source": [
    "plot_confusion_matrix(clf_lr_tfidf, X_test_tf, y_test, cmap='Blues')"
   ]
  },
  {
   "cell_type": "code",
   "execution_count": 59,
   "id": "84a80d71",
   "metadata": {},
   "outputs": [
    {
     "data": {
      "text/plain": [
       "{'C': 1.0,\n",
       " 'class_weight': None,\n",
       " 'dual': False,\n",
       " 'fit_intercept': True,\n",
       " 'intercept_scaling': 1,\n",
       " 'l1_ratio': None,\n",
       " 'max_iter': 100,\n",
       " 'multi_class': 'auto',\n",
       " 'n_jobs': None,\n",
       " 'penalty': 'l2',\n",
       " 'random_state': None,\n",
       " 'solver': 'lbfgs',\n",
       " 'tol': 0.0001,\n",
       " 'verbose': 0,\n",
       " 'warm_start': False}"
      ]
     },
     "execution_count": 59,
     "metadata": {},
     "output_type": "execute_result"
    }
   ],
   "source": [
    "clf_lr_tfidf.get_params()"
   ]
  },
  {
   "cell_type": "code",
   "execution_count": 60,
   "id": "8f9cd8ef",
   "metadata": {},
   "outputs": [],
   "source": [
    "params_lr = {'C': (0.5, 1.0, 1.5, 2.0)}"
   ]
  },
  {
   "cell_type": "code",
   "execution_count": 61,
   "id": "7710a2f5",
   "metadata": {},
   "outputs": [],
   "source": [
    "clf_lr_cv = GridSearchCV(clf_lr, param_grid = params_lr, cv=5, n_jobs=-1)"
   ]
  },
  {
   "cell_type": "code",
   "execution_count": 62,
   "id": "9d925b82",
   "metadata": {},
   "outputs": [
    {
     "data": {
      "text/plain": [
       "GridSearchCV(cv=5, estimator=LogisticRegression(), n_jobs=-1,\n",
       "             param_grid={'C': (0.5, 1.0, 1.5, 2.0)})"
      ]
     },
     "execution_count": 62,
     "metadata": {},
     "output_type": "execute_result"
    }
   ],
   "source": [
    "clf_lr_cv.fit(X_train_tf, y_train)"
   ]
  },
  {
   "cell_type": "code",
   "execution_count": 63,
   "id": "29d15134",
   "metadata": {},
   "outputs": [
    {
     "data": {
      "text/plain": [
       "{'C': 2.0}"
      ]
     },
     "execution_count": 63,
     "metadata": {},
     "output_type": "execute_result"
    }
   ],
   "source": [
    "clf_lr_cv.best_params_"
   ]
  },
  {
   "cell_type": "code",
   "execution_count": 64,
   "id": "dac0f0c6",
   "metadata": {},
   "outputs": [],
   "source": [
    "clf_lr_best = LogisticRegression(C=2.0)"
   ]
  },
  {
   "cell_type": "code",
   "execution_count": 65,
   "id": "c2ac1338",
   "metadata": {},
   "outputs": [
    {
     "data": {
      "text/plain": [
       "array([0, 0, 1, ..., 1, 1, 0], dtype=int64)"
      ]
     },
     "execution_count": 65,
     "metadata": {},
     "output_type": "execute_result"
    }
   ],
   "source": [
    "clf_lr_best.fit(X_train_tf, y_train)\n",
    "clf_lr_best.predict(X_test_tf)"
   ]
  },
  {
   "cell_type": "code",
   "execution_count": 66,
   "id": "fca20d56",
   "metadata": {},
   "outputs": [
    {
     "name": "stdout",
     "output_type": "stream",
     "text": [
      "train accuracy: 0.889120151371807 \n",
      " test accuracy: 0.8031774051191527\n"
     ]
    }
   ],
   "source": [
    "print(\"train accuracy:\", clf_lr_best.score(X_train_tf, y_train), \"\\n\", \"test accuracy:\", clf_lr_best.score(X_test_tf, y_test))"
   ]
  },
  {
   "cell_type": "code",
   "execution_count": 67,
   "id": "773a5271",
   "metadata": {},
   "outputs": [
    {
     "data": {
      "text/plain": [
       "0.8031774051191527"
      ]
     },
     "execution_count": 67,
     "metadata": {},
     "output_type": "execute_result"
    }
   ],
   "source": [
    "np.mean(y_test == clf_lr_best.predict(X_test_tf))"
   ]
  },
  {
   "cell_type": "markdown",
   "id": "7d2fd136",
   "metadata": {},
   "source": [
    "# Conclusions"
   ]
  },
  {
   "cell_type": "markdown",
   "id": "65a7f10f",
   "metadata": {},
   "source": [
    "The train and test accuracy, as well as accuracy and recall scores imply that the best performing model is the Naive Bayes Model, followed by SVM, and then logistic regression."
   ]
  },
  {
   "cell_type": "code",
   "execution_count": null,
   "id": "170d1d44",
   "metadata": {},
   "outputs": [],
   "source": []
  }
 ],
 "metadata": {
  "kernelspec": {
   "display_name": "Python 3",
   "language": "python",
   "name": "python3"
  },
  "language_info": {
   "codemirror_mode": {
    "name": "ipython",
    "version": 3
   },
   "file_extension": ".py",
   "mimetype": "text/x-python",
   "name": "python",
   "nbconvert_exporter": "python",
   "pygments_lexer": "ipython3",
   "version": "3.8.8"
  }
 },
 "nbformat": 4,
 "nbformat_minor": 5
}
